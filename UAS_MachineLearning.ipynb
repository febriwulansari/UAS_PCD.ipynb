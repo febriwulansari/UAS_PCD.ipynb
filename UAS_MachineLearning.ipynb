{
  "nbformat": 4,
  "nbformat_minor": 0,
  "metadata": {
    "colab": {
      "name": "UAS-MachineLearning.ipynb",
      "provenance": [],
      "collapsed_sections": [],
      "authorship_tag": "ABX9TyOIoTuC4pIZ12IJ5a6t/Le3",
      "include_colab_link": true
    },
    "kernelspec": {
      "name": "python3",
      "display_name": "Python 3"
    },
    "language_info": {
      "name": "python"
    }
  },
  "cells": [
    {
      "cell_type": "markdown",
      "metadata": {
        "id": "view-in-github",
        "colab_type": "text"
      },
      "source": [
        "<a href=\"https://colab.research.google.com/github/febriwulansari/UAS_PCD.ipynb/blob/main/UAS_MachineLearning.ipynb\" target=\"_parent\"><img src=\"https://colab.research.google.com/assets/colab-badge.svg\" alt=\"Open In Colab\"/></a>"
      ]
    },
    {
      "cell_type": "code",
      "metadata": {
        "id": "WuDMXcqaKnm5"
      },
      "source": [
        "import numpy as np\n",
        "import pandas as pd\n",
        "import seaborn as sns\n",
        "import matplotlib.pyplot as plt\n",
        "import warnings\n",
        "warnings.filterwarnings('ignore')"
      ],
      "execution_count": 147,
      "outputs": []
    },
    {
      "cell_type": "code",
      "metadata": {
        "id": "b_3TwjViKszU"
      },
      "source": [
        "df = pd.read_csv('/content/final_test.csv')"
      ],
      "execution_count": 123,
      "outputs": []
    },
    {
      "cell_type": "code",
      "metadata": {
        "colab": {
          "base_uri": "https://localhost:8080/"
        },
        "id": "9dT-SKiYM7kp",
        "outputId": "bfa956f2-fefa-4f88-d681-97e0145f4924"
      },
      "source": [
        "df.shape"
      ],
      "execution_count": 124,
      "outputs": [
        {
          "output_type": "execute_result",
          "data": {
            "text/plain": [
              "(21, 4)"
            ]
          },
          "metadata": {},
          "execution_count": 124
        }
      ]
    },
    {
      "cell_type": "code",
      "metadata": {
        "colab": {
          "base_uri": "https://localhost:8080/",
          "height": 669
        },
        "id": "YCXJe9AXM8un",
        "outputId": "82bee42e-4ad9-4f47-ee5e-a20fb6f438bb"
      },
      "source": [
        "df.head(20)"
      ],
      "execution_count": 125,
      "outputs": [
        {
          "output_type": "execute_result",
          "data": {
            "text/html": [
              "<div>\n",
              "<style scoped>\n",
              "    .dataframe tbody tr th:only-of-type {\n",
              "        vertical-align: middle;\n",
              "    }\n",
              "\n",
              "    .dataframe tbody tr th {\n",
              "        vertical-align: top;\n",
              "    }\n",
              "\n",
              "    .dataframe thead th {\n",
              "        text-align: right;\n",
              "    }\n",
              "</style>\n",
              "<table border=\"1\" class=\"dataframe\">\n",
              "  <thead>\n",
              "    <tr style=\"text-align: right;\">\n",
              "      <th></th>\n",
              "      <th>Nama</th>\n",
              "      <th>Tahfid</th>\n",
              "      <th>AKPAM</th>\n",
              "      <th>Kategori</th>\n",
              "    </tr>\n",
              "  </thead>\n",
              "  <tbody>\n",
              "    <tr>\n",
              "      <th>0</th>\n",
              "      <td>Alif</td>\n",
              "      <td>A+</td>\n",
              "      <td>178</td>\n",
              "      <td>Big</td>\n",
              "    </tr>\n",
              "    <tr>\n",
              "      <th>1</th>\n",
              "      <td>Azizah</td>\n",
              "      <td>B</td>\n",
              "      <td>156</td>\n",
              "      <td>Big</td>\n",
              "    </tr>\n",
              "    <tr>\n",
              "      <th>2</th>\n",
              "      <td>Fariha</td>\n",
              "      <td>B+</td>\n",
              "      <td>158</td>\n",
              "      <td>normal</td>\n",
              "    </tr>\n",
              "    <tr>\n",
              "      <th>3</th>\n",
              "      <td>Febri</td>\n",
              "      <td>B</td>\n",
              "      <td>176</td>\n",
              "      <td>Big</td>\n",
              "    </tr>\n",
              "    <tr>\n",
              "      <th>4</th>\n",
              "      <td>Fikri</td>\n",
              "      <td>B+</td>\n",
              "      <td>162</td>\n",
              "      <td>normal</td>\n",
              "    </tr>\n",
              "    <tr>\n",
              "      <th>5</th>\n",
              "      <td>Fikria</td>\n",
              "      <td>B-</td>\n",
              "      <td>169</td>\n",
              "      <td>normal</td>\n",
              "    </tr>\n",
              "    <tr>\n",
              "      <th>6</th>\n",
              "      <td>Khurin</td>\n",
              "      <td>B+</td>\n",
              "      <td>165</td>\n",
              "      <td>Big</td>\n",
              "    </tr>\n",
              "    <tr>\n",
              "      <th>7</th>\n",
              "      <td>Nabiila</td>\n",
              "      <td>A+</td>\n",
              "      <td>175</td>\n",
              "      <td>Big</td>\n",
              "    </tr>\n",
              "    <tr>\n",
              "      <th>8</th>\n",
              "      <td>Siti</td>\n",
              "      <td>B+</td>\n",
              "      <td>160</td>\n",
              "      <td>normal</td>\n",
              "    </tr>\n",
              "    <tr>\n",
              "      <th>9</th>\n",
              "      <td>Adinda</td>\n",
              "      <td>B-</td>\n",
              "      <td>160</td>\n",
              "      <td>normal</td>\n",
              "    </tr>\n",
              "    <tr>\n",
              "      <th>10</th>\n",
              "      <td>Zsafa</td>\n",
              "      <td>A+</td>\n",
              "      <td>165</td>\n",
              "      <td>Big</td>\n",
              "    </tr>\n",
              "    <tr>\n",
              "      <th>11</th>\n",
              "      <td>Ledi</td>\n",
              "      <td>A+</td>\n",
              "      <td>155</td>\n",
              "      <td>normal</td>\n",
              "    </tr>\n",
              "    <tr>\n",
              "      <th>12</th>\n",
              "      <td>Luki</td>\n",
              "      <td>B</td>\n",
              "      <td>178</td>\n",
              "      <td>Big</td>\n",
              "    </tr>\n",
              "    <tr>\n",
              "      <th>13</th>\n",
              "      <td>Nadya</td>\n",
              "      <td>B+</td>\n",
              "      <td>148</td>\n",
              "      <td>normal</td>\n",
              "    </tr>\n",
              "    <tr>\n",
              "      <th>14</th>\n",
              "      <td>Cahya</td>\n",
              "      <td>B</td>\n",
              "      <td>154</td>\n",
              "      <td>normal</td>\n",
              "    </tr>\n",
              "    <tr>\n",
              "      <th>15</th>\n",
              "      <td>Fitria</td>\n",
              "      <td>B</td>\n",
              "      <td>170</td>\n",
              "      <td>Big</td>\n",
              "    </tr>\n",
              "    <tr>\n",
              "      <th>16</th>\n",
              "      <td>Amira</td>\n",
              "      <td>A+</td>\n",
              "      <td>176</td>\n",
              "      <td>normal</td>\n",
              "    </tr>\n",
              "    <tr>\n",
              "      <th>17</th>\n",
              "      <td>Fulky</td>\n",
              "      <td>B+</td>\n",
              "      <td>173</td>\n",
              "      <td>Big</td>\n",
              "    </tr>\n",
              "    <tr>\n",
              "      <th>18</th>\n",
              "      <td>Farah</td>\n",
              "      <td>B+</td>\n",
              "      <td>165</td>\n",
              "      <td>normal</td>\n",
              "    </tr>\n",
              "    <tr>\n",
              "      <th>19</th>\n",
              "      <td>Fajar</td>\n",
              "      <td>B-</td>\n",
              "      <td>167</td>\n",
              "      <td>Big</td>\n",
              "    </tr>\n",
              "  </tbody>\n",
              "</table>\n",
              "</div>"
            ],
            "text/plain": [
              "       Nama  Tahfid  AKPAM Kategori\n",
              "0       Alif     A+    178     Big \n",
              "1     Azizah      B    156     Big \n",
              "2    Fariha      B+    158  normal \n",
              "3      Febri      B    176     Big \n",
              "4      Fikri     B+    162  normal \n",
              "5    Fikria      B-    169  normal \n",
              "6    Khurin      B+    165     Big \n",
              "7   Nabiila      A+    175     Big \n",
              "8      Siti      B+    160  normal \n",
              "9     Adinda     B-    160  normal \n",
              "10     Zsafa     A+    165     Big \n",
              "11      Ledi     A+    155  normal \n",
              "12      Luki      B    178     Big \n",
              "13     Nadya     B+    148  normal \n",
              "14     Cahya      B    154  normal \n",
              "15    Fitria      B    170     Big \n",
              "16     Amira     A+    176  normal \n",
              "17     Fulky     B+    173     Big \n",
              "18     Farah     B+    165  normal \n",
              "19     Fajar     B-    167     Big "
            ]
          },
          "metadata": {},
          "execution_count": 125
        }
      ]
    },
    {
      "cell_type": "code",
      "metadata": {
        "colab": {
          "base_uri": "https://localhost:8080/",
          "height": 297
        },
        "id": "qMIDB6GVNKft",
        "outputId": "f0c35d55-ff87-4b9a-ff54-ea73a61912e3"
      },
      "source": [
        "df.describe()"
      ],
      "execution_count": 126,
      "outputs": [
        {
          "output_type": "execute_result",
          "data": {
            "text/html": [
              "<div>\n",
              "<style scoped>\n",
              "    .dataframe tbody tr th:only-of-type {\n",
              "        vertical-align: middle;\n",
              "    }\n",
              "\n",
              "    .dataframe tbody tr th {\n",
              "        vertical-align: top;\n",
              "    }\n",
              "\n",
              "    .dataframe thead th {\n",
              "        text-align: right;\n",
              "    }\n",
              "</style>\n",
              "<table border=\"1\" class=\"dataframe\">\n",
              "  <thead>\n",
              "    <tr style=\"text-align: right;\">\n",
              "      <th></th>\n",
              "      <th>AKPAM</th>\n",
              "    </tr>\n",
              "  </thead>\n",
              "  <tbody>\n",
              "    <tr>\n",
              "      <th>count</th>\n",
              "      <td>21.000000</td>\n",
              "    </tr>\n",
              "    <tr>\n",
              "      <th>mean</th>\n",
              "      <td>165.238095</td>\n",
              "    </tr>\n",
              "    <tr>\n",
              "      <th>std</th>\n",
              "      <td>8.694278</td>\n",
              "    </tr>\n",
              "    <tr>\n",
              "      <th>min</th>\n",
              "      <td>148.000000</td>\n",
              "    </tr>\n",
              "    <tr>\n",
              "      <th>25%</th>\n",
              "      <td>160.000000</td>\n",
              "    </tr>\n",
              "    <tr>\n",
              "      <th>50%</th>\n",
              "      <td>165.000000</td>\n",
              "    </tr>\n",
              "    <tr>\n",
              "      <th>75%</th>\n",
              "      <td>173.000000</td>\n",
              "    </tr>\n",
              "    <tr>\n",
              "      <th>max</th>\n",
              "      <td>178.000000</td>\n",
              "    </tr>\n",
              "  </tbody>\n",
              "</table>\n",
              "</div>"
            ],
            "text/plain": [
              "            AKPAM\n",
              "count   21.000000\n",
              "mean   165.238095\n",
              "std      8.694278\n",
              "min    148.000000\n",
              "25%    160.000000\n",
              "50%    165.000000\n",
              "75%    173.000000\n",
              "max    178.000000"
            ]
          },
          "metadata": {},
          "execution_count": 126
        }
      ]
    },
    {
      "cell_type": "code",
      "metadata": {
        "id": "iVdBtKdTNPZy"
      },
      "source": [
        "df = df[df['AKPAM'] >= 8]"
      ],
      "execution_count": 129,
      "outputs": []
    },
    {
      "cell_type": "code",
      "metadata": {
        "colab": {
          "base_uri": "https://localhost:8080/",
          "height": 297
        },
        "id": "aEYdHDFlNTE8",
        "outputId": "5298dce1-af48-4ffb-bc99-06ac91e38233"
      },
      "source": [
        "df.describe()"
      ],
      "execution_count": 136,
      "outputs": [
        {
          "output_type": "execute_result",
          "data": {
            "text/html": [
              "<div>\n",
              "<style scoped>\n",
              "    .dataframe tbody tr th:only-of-type {\n",
              "        vertical-align: middle;\n",
              "    }\n",
              "\n",
              "    .dataframe tbody tr th {\n",
              "        vertical-align: top;\n",
              "    }\n",
              "\n",
              "    .dataframe thead th {\n",
              "        text-align: right;\n",
              "    }\n",
              "</style>\n",
              "<table border=\"1\" class=\"dataframe\">\n",
              "  <thead>\n",
              "    <tr style=\"text-align: right;\">\n",
              "      <th></th>\n",
              "      <th>AKPAM</th>\n",
              "    </tr>\n",
              "  </thead>\n",
              "  <tbody>\n",
              "    <tr>\n",
              "      <th>count</th>\n",
              "      <td>21.000000</td>\n",
              "    </tr>\n",
              "    <tr>\n",
              "      <th>mean</th>\n",
              "      <td>165.238095</td>\n",
              "    </tr>\n",
              "    <tr>\n",
              "      <th>std</th>\n",
              "      <td>8.694278</td>\n",
              "    </tr>\n",
              "    <tr>\n",
              "      <th>min</th>\n",
              "      <td>148.000000</td>\n",
              "    </tr>\n",
              "    <tr>\n",
              "      <th>25%</th>\n",
              "      <td>160.000000</td>\n",
              "    </tr>\n",
              "    <tr>\n",
              "      <th>50%</th>\n",
              "      <td>165.000000</td>\n",
              "    </tr>\n",
              "    <tr>\n",
              "      <th>75%</th>\n",
              "      <td>173.000000</td>\n",
              "    </tr>\n",
              "    <tr>\n",
              "      <th>max</th>\n",
              "      <td>178.000000</td>\n",
              "    </tr>\n",
              "  </tbody>\n",
              "</table>\n",
              "</div>"
            ],
            "text/plain": [
              "            AKPAM\n",
              "count   21.000000\n",
              "mean   165.238095\n",
              "std      8.694278\n",
              "min    148.000000\n",
              "25%    160.000000\n",
              "50%    165.000000\n",
              "75%    173.000000\n",
              "max    178.000000"
            ]
          },
          "metadata": {},
          "execution_count": 136
        }
      ]
    },
    {
      "cell_type": "code",
      "metadata": {
        "colab": {
          "base_uri": "https://localhost:8080/"
        },
        "id": "fGetxmziNVYx",
        "outputId": "4c208f4e-3ff7-48ea-d184-95e88fdb2deb"
      },
      "source": [
        "df.isnull().sum()"
      ],
      "execution_count": 137,
      "outputs": [
        {
          "output_type": "execute_result",
          "data": {
            "text/plain": [
              "Nama        0\n",
              "Tahfid      0\n",
              "AKPAM       0\n",
              "Kategori    0\n",
              "dtype: int64"
            ]
          },
          "metadata": {},
          "execution_count": 137
        }
      ]
    },
    {
      "cell_type": "code",
      "metadata": {
        "id": "W4oLJhP0NYHm"
      },
      "source": [
        "df.dropna(inplace=True)\n",
        "df.reset_index(inplace=True, drop=True)"
      ],
      "execution_count": 131,
      "outputs": []
    },
    {
      "cell_type": "code",
      "metadata": {
        "colab": {
          "base_uri": "https://localhost:8080/"
        },
        "id": "heSjuVEWNbQb",
        "outputId": "292f3f15-ee81-4867-fc12-9398009daa0a"
      },
      "source": [
        "df.isnull().sum()\n"
      ],
      "execution_count": 148,
      "outputs": [
        {
          "output_type": "execute_result",
          "data": {
            "text/plain": [
              "Nama        0\n",
              "Tahfid      0\n",
              "AKPAM       0\n",
              "Kategori    0\n",
              "dtype: int64"
            ]
          },
          "metadata": {},
          "execution_count": 148
        }
      ]
    },
    {
      "cell_type": "code",
      "metadata": {
        "colab": {
          "base_uri": "https://localhost:8080/"
        },
        "id": "-hoWfyPQNe9R",
        "outputId": "747a4633-520d-401a-b866-11c550ea55da"
      },
      "source": [
        "df.shape"
      ],
      "execution_count": 149,
      "outputs": [
        {
          "output_type": "execute_result",
          "data": {
            "text/plain": [
              "(21, 4)"
            ]
          },
          "metadata": {},
          "execution_count": 149
        }
      ]
    },
    {
      "cell_type": "code",
      "metadata": {
        "id": "EH1oRsGSNhZ8"
      },
      "source": [
        "background_color = '#F8EDF4'\n",
        "color_palette = ['#F78904', '#00C73C', '#D2125E', '#693AF9', '#B20600', '#007CDE', '#994936', '#886A00', '#39BBC2']"
      ],
      "execution_count": 150,
      "outputs": []
    },
    {
      "cell_type": "code",
      "metadata": {
        "colab": {
          "base_uri": "https://localhost:8080/"
        },
        "id": "fG7WW9y3Nklr",
        "outputId": "8bce7887-3aa7-466f-b45c-2bd379a74cd4"
      },
      "source": [
        "df['Tahfid'].value_counts()"
      ],
      "execution_count": 151,
      "outputs": [
        {
          "output_type": "execute_result",
          "data": {
            "text/plain": [
              "B+    7\n",
              "A+    5\n",
              "B     5\n",
              "B-    4\n",
              "Name: Tahfid, dtype: int64"
            ]
          },
          "metadata": {},
          "execution_count": 151
        }
      ]
    },
    {
      "cell_type": "code",
      "metadata": {
        "id": "tH_HSYdtNwTU"
      },
      "source": [
        "# Label Encoding\n",
        "df['Tahfid'] = df['Tahfid'].map({'A+': 1, 'B-': 2, 'B' : 3,\n",
        "                             'B-' : 4, 'A+' : 5, 'A+' : 6, 'A+' : 7})"
      ],
      "execution_count": 165,
      "outputs": []
    },
    {
      "cell_type": "code",
      "metadata": {
        "colab": {
          "base_uri": "https://localhost:8080/",
          "height": 111
        },
        "id": "i55FPRaec6JH",
        "outputId": "950a1d4e-07d4-44e5-e9a0-d959fc7b8cec"
      },
      "source": [
        "df.corr()"
      ],
      "execution_count": 167,
      "outputs": [
        {
          "output_type": "execute_result",
          "data": {
            "text/html": [
              "<div>\n",
              "<style scoped>\n",
              "    .dataframe tbody tr th:only-of-type {\n",
              "        vertical-align: middle;\n",
              "    }\n",
              "\n",
              "    .dataframe tbody tr th {\n",
              "        vertical-align: top;\n",
              "    }\n",
              "\n",
              "    .dataframe thead th {\n",
              "        text-align: right;\n",
              "    }\n",
              "</style>\n",
              "<table border=\"1\" class=\"dataframe\">\n",
              "  <thead>\n",
              "    <tr style=\"text-align: right;\">\n",
              "      <th></th>\n",
              "      <th>Tahfid</th>\n",
              "      <th>AKPAM</th>\n",
              "    </tr>\n",
              "  </thead>\n",
              "  <tbody>\n",
              "    <tr>\n",
              "      <th>Tahfid</th>\n",
              "      <td>NaN</td>\n",
              "      <td>NaN</td>\n",
              "    </tr>\n",
              "    <tr>\n",
              "      <th>AKPAM</th>\n",
              "      <td>NaN</td>\n",
              "      <td>1.0</td>\n",
              "    </tr>\n",
              "  </tbody>\n",
              "</table>\n",
              "</div>"
            ],
            "text/plain": [
              "        Tahfid  AKPAM\n",
              "Tahfid     NaN    NaN\n",
              "AKPAM      NaN    1.0"
            ]
          },
          "metadata": {},
          "execution_count": 167
        }
      ]
    },
    {
      "cell_type": "code",
      "metadata": {
        "id": "6vNfI-g9dSq8"
      },
      "source": [
        "from sklearn.linear_model import LogisticRegression\n",
        "from sklearn.ensemble import RandomForestClassifier\n",
        "from sklearn.tree import DecisionTreeClassifier\n",
        "from sklearn.neighbors import KNeighborsClassifier\n",
        "\n",
        "from sklearn.model_selection import train_test_split\n",
        "from sklearn.preprocessing import StandardScaler\n",
        "from sklearn.metrics import accuracy_score"
      ],
      "execution_count": 185,
      "outputs": []
    },
    {
      "cell_type": "code",
      "metadata": {
        "id": "eWXj66QQNytk"
      },
      "source": [
        "models = []\n",
        "scores = []"
      ],
      "execution_count": 186,
      "outputs": []
    },
    {
      "cell_type": "code",
      "metadata": {
        "colab": {
          "base_uri": "https://localhost:8080/",
          "height": 297
        },
        "id": "UcAHn6AzPYLe",
        "outputId": "ff10548c-5657-4f40-a686-059a92df055b"
      },
      "source": [
        "# Find n_neighbors for best score\n",
        "accuracy = []\n",
        "\n",
        "for i in range(1, 11):\n",
        "    model = KNeighborsClassifier(n_neighbors = i)\n",
        "    model.fit(X_train, y_train)\n",
        "    y_pred = model.predict(X_test)\n",
        "    accuracy.append(accuracy_score(y_test, y_pred))\n",
        "\n",
        "score_knn = max(accuracy)\n",
        "print('Accuracy Score of K-Nearest Neighbors Classifier :', score_knn)\n",
        "\n",
        "plt.figure(figsize=(7, 4))\n",
        "plt.plot(range(1,11), accuracy, linestyle='dashed', marker='o', color='blue',\n",
        "        markersize=7, markerfacecolor='red')\n",
        "plt.xlabel('n_neighbors')\n",
        "plt.ylabel('Accuracy')\n",
        "plt.show()\n",
        "\n",
        "models.append('K-Nearest Neighbors')\n",
        "scores.append(score_knn)"
      ],
      "execution_count": 187,
      "outputs": [
        {
          "output_type": "stream",
          "name": "stdout",
          "text": [
            "Accuracy Score of K-Nearest Neighbors Classifier : 0.4907645807679391\n"
          ]
        },
        {
          "output_type": "display_data",
          "data": {
            "image/png": "[encoded data removed]",
            "text/plain": [
              "<Figure size 504x288 with 1 Axes>"
            ]
          },
          "metadata": {
            "needs_background": "light"
          }
        }
      ]
    },
    {
      "cell_type": "code",
      "metadata": {
        "colab": {
          "base_uri": "https://localhost:8080/",
          "height": 80
        },
        "id": "-OB8CtCjPbNP",
        "outputId": "1dc00268-e892-4117-e9e0-6f196407ec19"
      },
      "source": [
        "df_result = pd.DataFrame({'Model' : models, 'Score' : scores})\n",
        "df_result.sort_values(by='Score', ascending=False, inplace=True)\n",
        "df_result"
      ],
      "execution_count": 188,
      "outputs": [
        {
          "output_type": "execute_result",
          "data": {
            "text/html": [
              "<div>\n",
              "<style scoped>\n",
              "    .dataframe tbody tr th:only-of-type {\n",
              "        vertical-align: middle;\n",
              "    }\n",
              "\n",
              "    .dataframe tbody tr th {\n",
              "        vertical-align: top;\n",
              "    }\n",
              "\n",
              "    .dataframe thead th {\n",
              "        text-align: right;\n",
              "    }\n",
              "</style>\n",
              "<table border=\"1\" class=\"dataframe\">\n",
              "  <thead>\n",
              "    <tr style=\"text-align: right;\">\n",
              "      <th></th>\n",
              "      <th>Model</th>\n",
              "      <th>Score</th>\n",
              "    </tr>\n",
              "  </thead>\n",
              "  <tbody>\n",
              "    <tr>\n",
              "      <th>0</th>\n",
              "      <td>K-Nearest Neighbors</td>\n",
              "      <td>0.490765</td>\n",
              "    </tr>\n",
              "  </tbody>\n",
              "</table>\n",
              "</div>"
            ],
            "text/plain": [
              "                 Model     Score\n",
              "0  K-Nearest Neighbors  0.490765"
            ]
          },
          "metadata": {},
          "execution_count": 188
        }
      ]
    }
  ]
}